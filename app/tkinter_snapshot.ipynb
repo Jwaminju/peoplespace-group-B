{
 "cells": [
  {
   "cell_type": "code",
   "execution_count": 10,
   "id": "centered-frederick",
   "metadata": {},
   "outputs": [],
   "source": [
    "import pyautogui\n",
    "import tkinter as tk\n",
    "#from tkinter import filedialog\n",
    "#import time\n",
    "#import threading\n",
    "\n",
    "root= tk.Tk()\n",
    "\n",
    "canvas = tk.Canvas(root, width = 300, height = 150)\n",
    "canvas.pack()\n",
    "\n",
    "running = True\n",
    "\n",
    "def start():\n",
    "    global running \n",
    "    running = True\n",
    "\n",
    "def stop():\n",
    "    global running\n",
    "    running = False\n",
    "    \n",
    "def take_screenshot():\n",
    "    \n",
    "    # threading.Timer(5, takeScreenshot).start()\n",
    "    # time.sleep(5)\n",
    "    # file_path = filedialog.asksaveasfilename(defaultextension='.png')\n",
    "    # myScreenshot.save(file_path)\\\n",
    "    \n",
    "    if running:\n",
    "        myScreenshot = pyautogui.screenshot()\n",
    "        \n",
    "        # 로컬 디비에 이미지 파일 저장 \n",
    "        myScreenshot.save(r'C:/Users/yoenj/Downloads/tested34.png')\n",
    "    \n",
    "    root.after(1000, take_screenshot)\n",
    "\n",
    "        \n",
    "btn1 = tk.Button(text='start', command=start, bg='green',fg='white',font= 15)\n",
    "btn2 = tk.Button(text='stop', command=stop, bg='green',fg='white',font= 15)\n",
    "\n",
    "canvas.create_window(150, 100, window=btn1)\n",
    "canvas.create_window(200, 100, window=btn2)\n",
    "\n",
    "root.after(5000, take_screenshot)\n",
    "root.mainloop()"
   ]
  },
  {
   "cell_type": "code",
   "execution_count": null,
   "id": "aerial-kinase",
   "metadata": {},
   "outputs": [],
   "source": []
  }
 ],
 "metadata": {
  "kernelspec": {
   "display_name": "Python 3",
   "language": "python",
   "name": "python3"
  },
  "language_info": {
   "codemirror_mode": {
    "name": "ipython",
    "version": 3
   },
   "file_extension": ".py",
   "mimetype": "text/x-python",
   "name": "python",
   "nbconvert_exporter": "python",
   "pygments_lexer": "ipython3",
   "version": "3.8.6"
  }
 },
 "nbformat": 4,
 "nbformat_minor": 5
}
